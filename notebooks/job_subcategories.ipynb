{
 "cells": [
  {
   "cell_type": "markdown",
   "id": "44e32dac-8257-467b-afb5-e3149e255aed",
   "metadata": {},
   "source": [
    "# About this notebook\n",
    "\n",
    "One of the most powerful features of LLM is the ability to compose and orchestrate calls. Python is a great language for prototyping, but when chaining operations, the lack\n",
    "of strong types can make results increasingly unpredictable.\n",
    "\n",
    "Enter F# - a functional language with strict typing and function composition as a native construct.\n",
    "\n",
    "This notebook illustates the following:\n",
    "\n",
    "- Automated retry operations with a `retry` Computation Expression. Simply instantiate the Retry builder with the number of retries, then use the `retry` block anywhere in code.\n",
    "- Using a private type constructor with string sanitization. This demonstrates very basic URL sanitization as an example; in general, you may want to consider a more fully-fledged sanitization process. A great resource on Prompt Injection is from [Carol Anderson.](https://www.linkedin.com/pulse/newly-discovered-prompt-injection-tactic-threatens-large-anderson/)\n",
    "- Serialization from OpenAI JSON response to an F# `Map<string,string>` type"
   ]
  },
  {
   "cell_type": "markdown",
   "id": "e6291884-b7cb-4f84-82fe-972e453b44dc",
   "metadata": {
    "tags": []
   },
   "source": [
    "# What does it do?\n",
    "\n",
    "Imagine we have a number of job listings, and want to categorize them by sub-categories not present in the data.\n",
    "\n",
    "We can ask ChatGPT (or another LLM) to look at the job descriptions, and provide sub-categories.\n",
    "\n",
    "Workflow:\n",
    "\n",
    "- Load in CSV data on job market from [Kaggle](https://www.kaggle.com/datasets/shashankshukla123123/linkedin-job-cleandata)\n",
    "- Group by the job Designation (job title)\n",
    "- Concatenate job details for a specific designation, and have ChatGPT analyze the batched results for sub-categories\n",
    "- Obtain those sub-categories in a `Map` type for future analysis\n",
    "\n"
   ]
  },
  {
   "cell_type": "markdown",
   "id": "0e62732a-7969-4edc-b8c2-2d773c8043a5",
   "metadata": {},
   "source": [
    "# Getting started\n",
    "\n",
    "- Follow instructions here on running .NET with Jupyter: https://github.com/dotnet/interactive/blob/main/docs/NotebookswithJupyter.md\n",
    "- You'll need an OpenAI API key set as an environment variable (`OPENAI_API_KEY`)"
   ]
  },
  {
   "cell_type": "code",
   "execution_count": 17,
   "id": "df546dba-83c3-42e0-9c33-5d9826b4677e",
   "metadata": {
    "tags": []
   },
   "outputs": [
    {
     "data": {
      "text/html": [
       "<div><div></div><div></div><div><strong>Installed Packages</strong><ul><li><span>FSharp.Data, 6.2.0</span></li><li><span>FSharpPlus, 1.4.1</span></li><li><span>System, 4.1.311.2</span></li></ul></div></div>"
      ]
     },
     "metadata": {},
     "output_type": "display_data"
    }
   ],
   "source": [
    "#r \"nuget:System\"\n",
    "#r \"nuget:FSharp.Data\"\n",
    "#r \"nuget:FSharpPlus\"\n",
    "#r \"nuget:Azure.AI.OpenAI,*-*\" // --prerelease\n",
    "\n",
    "open System\n",
    "open System.Collections.Generic\n",
    "open FSharp.Data\n",
    "open FSharpPlus\n",
    "open Azure.AI.OpenAI\n"
   ]
  },
  {
   "cell_type": "markdown",
   "id": "3c306c1e-2f75-4428-ac7e-95707e956691",
   "metadata": {},
   "source": [
    "#### Define a record type that will hold model parameters\n",
    "\n",
    "This can be easily extended to other models, including locally hosted models"
   ]
  },
  {
   "cell_type": "code",
   "execution_count": 3,
   "id": "65c8ed51-bdc5-4d43-9d18-a26b0293a303",
   "metadata": {
    "tags": []
   },
   "outputs": [],
   "source": [
    "type ModelSettings = {\n",
    "    TruncateLength : int\n",
    "    ModelName : string\n",
    "}"
   ]
  },
  {
   "cell_type": "markdown",
   "id": "6eba2041-a292-4a63-a2a6-ba66a6b47ea2",
   "metadata": {},
   "source": [
    "#### Now, let's instantiate that record with GPT 3.5 Turbo"
   ]
  },
  {
   "cell_type": "code",
   "execution_count": 4,
   "id": "4b0b0982-b316-40c3-847a-a830981591be",
   "metadata": {
    "tags": []
   },
   "outputs": [],
   "source": [
    "let settingsGPT3 = { TruncateLength = 3000; ModelName = \"gpt-3.5-turbo\" }"
   ]
  },
  {
   "cell_type": "markdown",
   "id": "579b7c45-fcf4-4ac4-9cbd-8358c2dba200",
   "metadata": {
    "tags": []
   },
   "source": [
    "#### Retrieve the OpenAI API key from an environment variable:"
   ]
  },
  {
   "cell_type": "code",
   "execution_count": 19,
   "id": "6337b42f-91e5-4815-a99c-34e0bd299a0c",
   "metadata": {
    "tags": []
   },
   "outputs": [],
   "source": [
    "let getEnvVar (name: string) =\n",
    "    let value = Environment.GetEnvironmentVariable(name)\n",
    "    match value with\n",
    "    | null -> failwith (sprintf \"Environment variable '%s' not found\" name)\n",
    "    | _ -> value\n",
    "\n",
    "let AOAI_KEY = Environment.GetEnvironmentVariable(\"AOAI_KEY\");"
   ]
  },
  {
   "cell_type": "markdown",
   "id": "b7740f67-33ad-4f63-8821-7ea95b47fd2c",
   "metadata": {},
   "source": [
    "#### Build the GPT client with Azure OpenAI (note: this uses OpenAI, not anything Azure-specific)"
   ]
  },
  {
   "cell_type": "code",
   "execution_count": 23,
   "id": "3c98008f-b03b-4c79-a963-dc973afabed6",
   "metadata": {
    "tags": []
   },
   "outputs": [],
   "source": [
    "let llmClient = new OpenAIClient(AOAI_KEY);\n",
    "\n",
    "let callGPT settings prompt =\n",
    "\n",
    "    let completionsOptions = new ChatCompletionsOptions( \n",
    "        [ChatMessage(role = ChatRole.System, content = \"Assistant is a large language model trained by OpenAI. It returns values in JSON.\");\n",
    "        ChatMessage(role = ChatRole.User, content = prompt)])\n",
    "\n",
    "    let response = llmClient.GetChatCompletions(settings.ModelName, completionsOptions)\n",
    "    response"
   ]
  },
  {
   "cell_type": "markdown",
   "id": "d304831a-94c2-426f-9650-8aa78ff2ea0f",
   "metadata": {},
   "source": [
    "### String sanitization\n",
    "\n",
    "In our hypothetical use case, we are concerned that job details might contain URLs which, combined with prompt injection, would provide a data exfiltration point. We can\n",
    "ensure that `SanitizedString`s are always validated before construction so we can safely pass them to the LLM.\n",
    "\n",
    "This is a simple example. Using more advanced grammar parsing could be a good choice to filter out more sophisticated attacks."
   ]
  },
  {
   "cell_type": "code",
   "execution_count": 24,
   "id": "a1fb19f1-9bad-413f-9701-97554fe42a3c",
   "metadata": {
    "tags": []
   },
   "outputs": [],
   "source": [
    "type SanitizedString = \n",
    "    private\n",
    "    | SanitizedString of string\n",
    "\n",
    "module SanitizedString =\n",
    "\n",
    "    let urlRegex = System.Text.RegularExpressions.Regex(@\"http[s]?://[\\w.-]+(?:\\.[\\w\\.-]+)+[\\w\\-\\._~:/?#[\\]@!\\$&'\\(\\)\\*\\+,;=.]+\")\n",
    "\n",
    "    let tryCreate (input: string) : SanitizedString option =\n",
    "        if urlRegex.IsMatch(input) then\n",
    "            None\n",
    "        else\n",
    "            Some (SanitizedString input)\n",
    "\n",
    "    let value (SanitizedString s) = s\n",
    "\n",
    "    let concat (SanitizedString s1) (SanitizedString s2) : SanitizedString option =\n",
    "        tryCreate (s1 + s2)\n"
   ]
  },
  {
   "cell_type": "markdown",
   "id": "2f28dabc-24d6-41cd-b7e0-59da71eb52dd",
   "metadata": {
    "tags": []
   },
   "source": [
    "#### Invoke\n",
    "\n",
    "This function is what calls the LLM. In our use case, it accepts a `ModelSettings` record and a `SanitizedString`. In this specific case we truncate the input prompt to 3000 characters to fit within context length for GPT 3.5. This can be tweaked by updating the record."
   ]
  },
  {
   "cell_type": "code",
   "execution_count": 25,
   "id": "737513b4-2adb-4737-ab58-0c12fd8f7cf9",
   "metadata": {
    "tags": []
   },
   "outputs": [],
   "source": [
    "let invoke (modelSettings: ModelSettings) (sanitizedString: SanitizedString) : string =\n",
    "    let prompt = (SanitizedString.value sanitizedString |> String.truncate modelSettings.TruncateLength)\n",
    "    let response = (callGPT modelSettings prompt)\n",
    "    let choices = response.Value.Choices\n",
    "    choices[0].Message.Content "
   ]
  },
  {
   "cell_type": "markdown",
   "id": "7f7b7c87-f3e3-4727-bcfc-c15cc2ca0486",
   "metadata": {
    "tags": []
   },
   "source": [
    "#### Partial application\n",
    "\n",
    "`invokeGPT3` is now a function with `settingsGPT3` already applied. We can work with this function just like any other, but don't need to worry about remembering which \n",
    "`ModelSettings` we need to use"
   ]
  },
  {
   "cell_type": "code",
   "execution_count": 26,
   "id": "1e1af5f8-5294-491c-84d0-5f54832e280a",
   "metadata": {
    "tags": []
   },
   "outputs": [],
   "source": [
    "let invokeGPT3 = invoke settingsGPT3 "
   ]
  },
  {
   "cell_type": "markdown",
   "id": "94adecfb-21cf-40ed-b192-9bf40d83dbb5",
   "metadata": {
    "tags": []
   },
   "source": [
    "#### RetryBuilder Computation Expression\n",
    "\n",
    "This is the most advanced topic in this notebook. A Computation Expression, similar to a Monad in Haskell, handles high-level control flow. In our case we can\n",
    "wrap calls to the LLM in this RetryBuilder which will automatically retry for us."
   ]
  },
  {
   "cell_type": "code",
   "execution_count": 27,
   "id": "e522e5d9-1c4d-4fa8-bb11-3c3f0774dd76",
   "metadata": {
    "tags": []
   },
   "outputs": [],
   "source": [
    "type RetryBuilder(maxRetries : int) =\n",
    "    member this.Bind(x, f) =\n",
    "        let rec loop retries =\n",
    "            match x with\n",
    "            | Ok x -> \n",
    "                try\n",
    "                    f x\n",
    "                with\n",
    "                | ex when retries > 0 ->\n",
    "                    printfn \"Exception occurred, retrying. %d retries left\" retries\n",
    "                    loop (retries - 1)\n",
    "                | ex ->\n",
    "                    printfn \"Exception occurred, no retries left. Rethrowing...\"\n",
    "                    reraise()\n",
    "            | Error _ as err -> err\n",
    "        loop maxRetries\n",
    "    member this.Return(x) = Ok x\n",
    "    member __.ReturnFrom(x) = x\n",
    "\n",
    "    member this.Zero() = failwith \"Unexpected condition in RetryBuilder\""
   ]
  },
  {
   "cell_type": "markdown",
   "id": "72cd1a78-52d2-444e-a20e-2855f75dcf15",
   "metadata": {},
   "source": [
    "Create an instance of the RetryBuilder, in this case with 5 retries"
   ]
  },
  {
   "cell_type": "code",
   "execution_count": 28,
   "id": "f322cda5-171e-439e-a71f-fdccd7fb868c",
   "metadata": {
    "tags": []
   },
   "outputs": [],
   "source": [
    "let retry = RetryBuilder(5)"
   ]
  },
  {
   "cell_type": "markdown",
   "id": "e84afdc6-c1f2-4807-af85-5fc873a3037a",
   "metadata": {},
   "source": [
    "#### Extract themes\n",
    "\n",
    "Here we take in the "
   ]
  },
  {
   "cell_type": "code",
   "execution_count": 29,
   "id": "b27fb119-bf0c-4829-b881-e17b30489b7a",
   "metadata": {
    "tags": []
   },
   "outputs": [],
   "source": [
    "type SpaceSeparatedFile = CsvProvider<\"./job_cleanData.csv\">\n",
    "\n",
    "let loadAndGroupData () : string * list<string> =\n",
    "    // Load space-separated data\n",
    "    let data = SpaceSeparatedFile.Load(\"./job_cleanData.csv\")\n",
    "    \n",
    "    // Group by unique \"Designation\" values\n",
    "    let groupedData = \n",
    "        data.Rows\n",
    "        |> Seq.groupBy (fun row -> row.Designation)\n",
    "        |> Seq.map (fun (name, rows) -> name, Seq.toList rows) // This produces a sequence of tuples (designation, rows)\n",
    "        |> Seq.map (fun (name, rows) -> name, rows |> List.map (fun row -> row.Job_details)) // For each group, transform the list of rows into a list of job details\n",
    "    \n",
    "    // Return the first group's designation and job details\n",
    "    let firstGroup = Seq.head groupedData\n",
    "    firstGroup"
   ]
  },
  {
   "cell_type": "code",
   "execution_count": 30,
   "id": "d8f9fb0f-78cc-48bd-ae9b-1a50d1d45f83",
   "metadata": {
    "tags": []
   },
   "outputs": [],
   "source": [
    "let (designation, descriptions) = loadAndGroupData()"
   ]
  },
  {
   "cell_type": "markdown",
   "id": "2b453865-d311-4831-97b2-5bf1ecc0cc78",
   "metadata": {
    "tags": []
   },
   "source": [
    "#### Convert job descriptions to `SanitizedString`s"
   ]
  },
  {
   "cell_type": "code",
   "execution_count": 31,
   "id": "3630ba74-0925-4dcf-835e-65864ad5cfb6",
   "metadata": {
    "tags": []
   },
   "outputs": [],
   "source": [
    "let merged = \n",
    "    descriptions\n",
    "    |> Seq.map SanitizedString.tryCreate\n",
    "    |> Seq.choose id\n",
    "    |> Seq.map SanitizedString.value\n",
    "    |> String.concat \" \"\n"
   ]
  },
  {
   "cell_type": "markdown",
   "id": "ad3b458a-88a0-4b5a-b0c3-a4ea9052c82d",
   "metadata": {},
   "source": [
    "#### JSON Deserialization\n",
    "\n",
    "Here we handle deserialization the OpenAI API call JSON response. This could be improved with retry, additional error handling, and reflection to automatically provide the\n",
    "desired schema to the LLM."
   ]
  },
  {
   "cell_type": "code",
   "execution_count": 32,
   "id": "f7309780-ec3d-4c9b-9e8c-84194bb87ed2",
   "metadata": {
    "tags": []
   },
   "outputs": [],
   "source": [
    "let jsonToT<'T> (json : string) : 'T =\n",
    "\n",
    "    System.Text.Json.JsonSerializer.Deserialize<'T>(json)\n",
    "    \n",
    "exception Error1 of string\n",
    "\n",
    "\n",
    "let verifyKeys (map : Map<string, int>) (categories : list<string>) : Result<Map<string, int>, string> =\n",
    "    let keys = map |> Map.toSeq |> Seq.map fst |> Set.ofSeq\n",
    "    let categorySet = Set.ofList categories\n",
    "    if Set.isSubset keys categorySet then Ok map\n",
    "    else Error \"Some keys are not in the category list\"\n",
    "    \n",
    "let jsonToMap (json : string) (categories: string list) : Result<Map<string, int>, string> =\n",
    "    try\n",
    "        let value = System.Text.Json.JsonSerializer.Deserialize<Map<string, int>>(json)\n",
    "        verifyKeys value categories\n",
    "    with\n",
    "    | ex -> Error ex.Message\n",
    "\n"
   ]
  },
  {
   "cell_type": "markdown",
   "id": "23ec19b4-7e62-4629-b502-cd8293c0d0ea",
   "metadata": {
    "tags": []
   },
   "source": [
    "#### Putting it all together\n",
    "\n",
    "Attempt to construct a `SanitizedString`, and then use it to identify subcategories via a call to OpenAI"
   ]
  },
  {
   "cell_type": "code",
   "execution_count": 34,
   "id": "62b057e3-3723-441c-8dd5-3d38cc6efca9",
   "metadata": {
    "tags": []
   },
   "outputs": [
    {
     "name": "stdout",
     "output_type": "stream",
     "text": [
      "\"[\"Data Analyst\", \"Machine Learning Engineer\"]\"\n"
     ]
    }
   ],
   "source": [
    "type MaybeBuilder() =\n",
    "    member this.Bind(x, f) = \n",
    "        match x with\n",
    "        | Some a -> f a\n",
    "        | None -> None\n",
    "    member this.Return(x) = Some x\n",
    "    member this.ReturnFrom(x) = x\n",
    "    member this.Zero() = None\n",
    "\n",
    "let maybe = new MaybeBuilder()\n",
    "\n",
    "open System.Text.Json\n",
    "\n",
    "let toJson (value: 'T) : string =\n",
    "    JsonSerializer.Serialize<'T>(value)\n",
    "\n",
    "\n",
    "let processDesignation<'T> (example: 'T) (designation: string) (merged: string) : 'T option =\n",
    "\n",
    "    maybe {\n",
    "        let jsonString = toJson example\n",
    "        let shortMerged = merged |> String.truncate 1000\n",
    "        let! sanitizedPrompt = SanitizedString.tryCreate $\"\"\"you are a helpful job classification system. Given this job designation '{designation}', and the following job details, please provide a sub-categories of this job. Details: {shortMerged} Please return a JSON array like this: `{jsonString}` without any extra values.\"\"\"\n",
    "        let subcategories : string = invokeGPT3 sanitizedPrompt\n",
    "        printfn \"%A\" subcategories\n",
    "        let map: 'T = jsonToT subcategories\n",
    "        return map\n",
    "    } \n",
    "\n",
    "let example = [\"Data analyst\"; \"Data Scientist\"]\n",
    "let jobMap = processDesignation example designation merged\n"
   ]
  },
  {
   "cell_type": "code",
   "execution_count": 37,
   "id": "3d258908-cef7-4e56-87c9-4878695cc8c6",
   "metadata": {
    "tags": []
   },
   "outputs": [],
   "source": [
    "type RelevanceBuilder() =\n",
    "    member this.Bind(x, f) = \n",
    "        match x with\n",
    "        | Some a -> f a\n",
    "        | None -> None\n",
    "    member this.Return(x) = Some x\n",
    "    member this.ReturnFrom(x) = x\n",
    "    member this.Zero() = None\n",
    "\n",
    "let relevance = new RelevanceBuilder()\n",
    "\n",
    "let invokeAndParseGPT3<'T> (sp : SanitizedString) maxRetries : Result<'T, Exception> =\n",
    "    let retries = [1 .. maxRetries]\n",
    "    \n",
    "    List.fold (fun currentAttempt _ -> \n",
    "        match currentAttempt with\n",
    "        | Ok result -> Ok result\n",
    "        | Error ex ->\n",
    "            printfn \"Error: %s\" ex.Message\n",
    "            match SanitizedString.tryCreate ex.Message with\n",
    "            | Some sanitizedError ->\n",
    "                let updatedSp = SanitizedString.concat sp sanitizedError\n",
    "                let gptresponse = invokeGPT3 updatedSp.Value\n",
    "                jsonToT gptresponse\n",
    "            | None -> Error ex\n",
    "    ) (Error (Exception \"Start\")) retries\n",
    "\n",
    "let rec invokeAndParseGPT3Map (sp : SanitizedString) maxRetries (categories: string list) : Result<Map<string, int>, Exception> =\n",
    "    let retries = [1 .. maxRetries]\n",
    "\n",
    "    List.fold (fun currentAttempt _ -> \n",
    "        match currentAttempt with\n",
    "        | Ok result -> Ok result\n",
    "        | Error _ ->\n",
    "            let gptresponse = invokeGPT3 sp\n",
    "            let parsed = jsonToMap gptresponse categories\n",
    "\n",
    "            match parsed with\n",
    "            | Ok map -> Ok map\n",
    "            | Error _ ->\n",
    "                match SanitizedString.tryCreate gptresponse with\n",
    "                | Some sanitizedError ->\n",
    "                    let updatedSp = SanitizedString.concat sp sanitizedError\n",
    "                    match updatedSp with\n",
    "                    | Some query -> \n",
    "                        invokeAndParseGPT3Map query (maxRetries - 1) categories\n",
    "                    | None -> Error (Exception \"The query was empty\")\n",
    "                | None -> Error (Exception \"Sanitization failed\")\n",
    "    ) (Error (Exception \"Start\")) retries\n",
    "\n"
   ]
  },
  {
   "cell_type": "code",
   "execution_count": 38,
   "id": "55b4dbc7-d913-472b-9313-58ed5e325d27",
   "metadata": {
    "tags": []
   },
   "outputs": [],
   "source": [
    "\n",
    "let findRelevant (jobMap) (descriptions: string list) (categories): Map<string, (int * string)> list =\n",
    "    descriptions\n",
    "    |> List.map (fun desc ->\n",
    "        relevance {\n",
    "            let jobMapJson = System.Text.Json.JsonSerializer.Serialize(jobMap)\n",
    "            let shortDescription = desc |> String.truncate 1500\n",
    "            let sanitizedPrompt = SanitizedString.tryCreate $\"\"\"Given this job description: `\\n\\n\\n{shortDescription}`\\n\\n\\n, please identify which of these categories are appropriate: `{jobMapJson}`. Please return a response in a JSON map, with the category as the key and a 1-5 score representing the relevance of the category to the description as the value. Only return JSON. For instance, a response could be {{'data analyst' : 5, 'ml engineer': 2}}\"\"\"\n",
    "            let! sp = sanitizedPrompt\n",
    "            printfn \"%A\" sanitizedPrompt.Value\n",
    "            \n",
    "            let result  = invokeAndParseGPT3Map sp 5 categories  // 5 being the maximum number of retries\n",
    "            \n",
    "            match result  with\n",
    "            | Ok r ->\n",
    "            \n",
    "                let combined : Map<string, (int * string)> = Map.map (fun _ v -> (v, desc)) r\n",
    "            // let combined = result\n",
    "                return combined\n",
    "            | Error ex ->\n",
    "                printfn \"%s\" ex.Message\n",
    "        }\n",
    "    )\n",
    "    |> List.choose id\n",
    "    "
   ]
  },
  {
   "cell_type": "code",
   "execution_count": 1,
   "id": "27e99c01-3210-4f84-a5c2-25074e3a11e8",
   "metadata": {
    "tags": []
   },
   "outputs": [
    {
     "data": {
      "text/html": [
       "\r\n",
       "<div>\r\n",
       "    <div id='dotnet-interactive-this-cell-13356.Microsoft.DotNet.Interactive.Http.HttpPort' style='display: none'>\r\n",
       "        The below script needs to be able to find the current output cell; this is an easy method to get it.\r\n",
       "    </div>\r\n",
       "    <script type='text/javascript'>\r\n",
       "async function probeAddresses(probingAddresses) {\r\n",
       "    function timeout(ms, promise) {\r\n",
       "        return new Promise(function (resolve, reject) {\r\n",
       "            setTimeout(function () {\r\n",
       "                reject(new Error('timeout'))\r\n",
       "            }, ms)\r\n",
       "            promise.then(resolve, reject)\r\n",
       "        })\r\n",
       "    }\r\n",
       "\r\n",
       "    if (Array.isArray(probingAddresses)) {\r\n",
       "        for (let i = 0; i < probingAddresses.length; i++) {\r\n",
       "\r\n",
       "            let rootUrl = probingAddresses[i];\r\n",
       "\r\n",
       "            if (!rootUrl.endsWith('/')) {\r\n",
       "                rootUrl = `${rootUrl}/`;\r\n",
       "            }\r\n",
       "\r\n",
       "            try {\r\n",
       "                let response = await timeout(1000, fetch(`${rootUrl}discovery`, {\r\n",
       "                    method: 'POST',\r\n",
       "                    cache: 'no-cache',\r\n",
       "                    mode: 'cors',\r\n",
       "                    timeout: 1000,\r\n",
       "                    headers: {\r\n",
       "                        'Content-Type': 'text/plain'\r\n",
       "                    },\r\n",
       "                    body: probingAddresses[i]\r\n",
       "                }));\r\n",
       "\r\n",
       "                if (response.status == 200) {\r\n",
       "                    return rootUrl;\r\n",
       "                }\r\n",
       "            }\r\n",
       "            catch (e) { }\r\n",
       "        }\r\n",
       "    }\r\n",
       "}\r\n",
       "\r\n",
       "function loadDotnetInteractiveApi() {\r\n",
       "    probeAddresses([\"http://192.168.1.154:2048/\", \"http://127.0.0.1:2048/\"])\r\n",
       "        .then((root) => {\r\n",
       "        // use probing to find host url and api resources\r\n",
       "        // load interactive helpers and language services\r\n",
       "        let dotnetInteractiveRequire = require.config({\r\n",
       "        context: '13356.Microsoft.DotNet.Interactive.Http.HttpPort',\r\n",
       "                paths:\r\n",
       "            {\r\n",
       "                'dotnet-interactive': `${root}resources`\r\n",
       "                }\r\n",
       "        }) || require;\r\n",
       "\r\n",
       "            window.dotnetInteractiveRequire = dotnetInteractiveRequire;\r\n",
       "\r\n",
       "            window.configureRequireFromExtension = function(extensionName, extensionCacheBuster) {\r\n",
       "                let paths = {};\r\n",
       "                paths[extensionName] = `${root}extensions/${extensionName}/resources/`;\r\n",
       "                \r\n",
       "                let internalRequire = require.config({\r\n",
       "                    context: extensionCacheBuster,\r\n",
       "                    paths: paths,\r\n",
       "                    urlArgs: `cacheBuster=${extensionCacheBuster}`\r\n",
       "                    }) || require;\r\n",
       "\r\n",
       "                return internalRequire\r\n",
       "            };\r\n",
       "        \r\n",
       "            dotnetInteractiveRequire([\r\n",
       "                    'dotnet-interactive/dotnet-interactive'\r\n",
       "                ],\r\n",
       "                function (dotnet) {\r\n",
       "                    dotnet.init(window);\r\n",
       "                },\r\n",
       "                function (error) {\r\n",
       "                    console.log(error);\r\n",
       "                }\r\n",
       "            );\r\n",
       "        })\r\n",
       "        .catch(error => {console.log(error);});\r\n",
       "    }\r\n",
       "\r\n",
       "// ensure `require` is available globally\r\n",
       "if ((typeof(require) !==  typeof(Function)) || (typeof(require.config) !== typeof(Function))) {\r\n",
       "    let require_script = document.createElement('script');\r\n",
       "    require_script.setAttribute('src', 'https://cdnjs.cloudflare.com/ajax/libs/require.js/2.3.6/require.min.js');\r\n",
       "    require_script.setAttribute('type', 'text/javascript');\r\n",
       "    \r\n",
       "    \r\n",
       "    require_script.onload = function() {\r\n",
       "        loadDotnetInteractiveApi();\r\n",
       "    };\r\n",
       "\r\n",
       "    document.getElementsByTagName('head')[0].appendChild(require_script);\r\n",
       "}\r\n",
       "else {\r\n",
       "    loadDotnetInteractiveApi();\r\n",
       "}\r\n",
       "\r\n",
       "    </script>\r\n",
       "</div>"
      ]
     },
     "metadata": {},
     "output_type": "display_data"
    },
    {
     "name": "stderr",
     "output_type": "stream",
     "text": [
      "Stopped due to error\n",
      "\n",
      "input.fsx (2,11)-(2,17) typecheck error The value or constructor 'jobMap' is not defined.\n",
      "\n",
      "input.fsx (9,5)-(9,17) typecheck error The value or constructor 'descriptions' is not defined.\n",
      "\n",
      "input.fsx (10,16)-(10,31) typecheck error The value, namespace, type or module 'SanitizedString' is not defined.\n",
      "\n",
      "input.fsx (12,16)-(12,31) typecheck error The value, namespace, type or module 'SanitizedString' is not defined.\n",
      "\n",
      "input.fsx (15,14)-(15,20) typecheck error The value or constructor 'jobMap' is not defined. Maybe you want one of the following:\n",
      "   jobMapBinding\n",
      "\n",
      "input.fsx (15,45)-(15,57) typecheck error The value or constructor 'findRelevant' is not defined.\n",
      "\n"
     ]
    },
    {
     "ename": "Error",
     "evalue": "compilation error",
     "output_type": "error",
     "traceback": []
    }
   ],
   "source": [
    "let jobMapBinding = \n",
    "    match jobMap with\n",
    "    | Some jm -> jm\n",
    "    | None -> \n",
    "        printfn \"Job map not available.\"\n",
    "        List.empty\n",
    "\n",
    "let safeDescriptions = \n",
    "    descriptions\n",
    "    |> Seq.map SanitizedString.tryCreate\n",
    "    |> Seq.choose id\n",
    "    |> Seq.map SanitizedString.value\n",
    "    |> Seq.toList\n",
    "\n",
    "let result = jobMap |> Option.map (fun x -> findRelevant jobMapBinding (List.take 10 safeDescriptions) x)\n",
    "\n",
    "\n",
    "let topK (data: Map<string, (int * string)> list option) (k: int) : Map<string, (int * string) list> option =\n",
    "    data |> Option.map (fun maps ->\n",
    "        maps\n",
    "        |> List.collect Map.toList // Flatten the list of maps into a single list of key-value pairs\n",
    "        |> List.groupBy fst // Group by keys (strings)\n",
    "        |> List.map (fun (key, group) ->\n",
    "            // For each group, sort by value (int) in descending order, take the top k and create a new map entry\n",
    "            key, (group |> List.map snd |> List.sortBy (fun (score, desc) -> -score) |> List.take k)\n",
    "        )\n",
    "        |> Map.ofList // Convert the list of key-value pairs back to a map\n",
    "    )\n",
    "\n",
    "topK result 1\n"
   ]
  }
 ],
 "metadata": {
  "kernelspec": {
   "display_name": ".NET (F#)",
   "language": "F#",
   "name": ".net-fsharp"
  },
  "language_info": {
   "file_extension": ".fs",
   "mimetype": "text/x-fsharp",
   "name": "F#",
   "pygments_lexer": "fsharp",
   "version": "7.0"
  }
 },
 "nbformat": 4,
 "nbformat_minor": 5
}
