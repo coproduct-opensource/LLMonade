{
 "cells": [
  {
   "cell_type": "markdown",
   "id": "44e32dac-8257-467b-afb5-e3149e255aed",
   "metadata": {},
   "source": [
    "# About this notebook\n",
    "\n",
    "One of the most powerful features of LLM is the ability to compose and orchestrate calls. Python is a great language for prototyping, but when chaining operations, the lack\n",
    "of strong types can make results increasingly unpredictable.\n",
    "\n",
    "Enter F# - a functional language with strict typing and function composition as a native construct.\n",
    "\n",
    "This notebook illustates the following:\n",
    "\n",
    "- Automated retry operations with a `retry` Computation Expression. Simply instantiate the Retry builder with the number of retries, then use the `retry` block anywhere in code.\n",
    "- Using a private type constructor with string santiziation. This demonstrates very basic URL sanitization as an example A great resource on Prompt Injection is from [Carol Anderson.](https://www.linkedin.com/pulse/newly-discovered-prompt-injection-tactic-threatens-large-anderson/)\n",
    "- Serialization from OpenAI JSON response to an F# `Map<string,string>` type"
   ]
  },
  {
   "cell_type": "markdown",
   "id": "e6291884-b7cb-4f84-82fe-972e453b44dc",
   "metadata": {
    "tags": []
   },
   "source": [
    "# What does it do?\n",
    "\n",
    "Imagine we have a number of job listings, and want to categorize them by sub-categories not present in the data.\n",
    "\n",
    "We can ask ChatGPT (or another LLM) to look at the job descriptions, and provide sub-categories.\n",
    "\n",
    "Workflow:\n",
    "\n",
    "- Load in CSV data on job market from [Kaggle](https://www.kaggle.com/datasets/shashankshukla123123/linkedin-job-cleandata)\n",
    "- Group by the job Designation (job title)\n",
    "- Concatenate job details for a specific designation, and have ChatGPT analyze the batched results for sub-categories\n",
    "- Obtain those sub-categories in a `Map` type for future analysis\n",
    "\n"
   ]
  },
  {
   "cell_type": "markdown",
   "id": "0e62732a-7969-4edc-b8c2-2d773c8043a5",
   "metadata": {},
   "source": [
    "# Getting started\n",
    "\n",
    "- Follow instructions here on running .NET with Jupyter: https://github.com/dotnet/interactive/blob/main/docs/NotebookswithJupyter.md\n",
    "- You'll need an OpenAI API key set as an environment variable (`OPENAI_API_KEY`)"
   ]
  },
  {
   "cell_type": "code",
   "execution_count": 3,
   "id": "df546dba-83c3-42e0-9c33-5d9826b4677e",
   "metadata": {
    "tags": []
   },
   "outputs": [
    {
     "data": {
      "text/html": [
       "<div><div></div><div></div><div><strong>Installed Packages</strong><ul><li><span>FSharp.Data, 6.2.0</span></li><li><span>FSharpPlus, 1.4.1</span></li><li><span>Newtonsoft.Json, 13.0.3</span></li><li><span>OpenAI.Client, 0.2.0</span></li><li><span>System, 4.1.311.2</span></li></ul></div></div>"
      ]
     },
     "metadata": {},
     "output_type": "display_data"
    }
   ],
   "source": [
    "#r \"nuget:System\"\n",
    "#r \"nuget:Newtonsoft.Json\"\n",
    "#r \"nuget:OpenAI.Client\"\n",
    "#r \"nuget:FSharp.Data\"\n",
    "#r \"nuget:FSharpPlus\"\n",
    "\n",
    "open System\n",
    "open Newtonsoft.Json\n",
    "open Newtonsoft.Json.Linq\n",
    "open System.Collections.Generic\n",
    "open OpenAI\n",
    "open OpenAI.Chat\n",
    "open FSharp.Data\n",
    "open FSharpPlus"
   ]
  },
  {
   "cell_type": "markdown",
   "id": "b4c0ad09-aaef-40a7-8aaa-f6c9e0d56592",
   "metadata": {
    "tags": []
   },
   "source": [
    "#### Retrieve the OpenAI API key from an environment variable:"
   ]
  },
  {
   "cell_type": "code",
   "execution_count": 9,
   "id": "f1833f96-edd3-4751-a91c-b2c84cb5aa6c",
   "metadata": {},
   "outputs": [],
   "source": [
    "\n",
    "let getEnvVar (name: string) =\n",
    "    let value = Environment.GetEnvironmentVariable(name)\n",
    "    match value with\n",
    "    | null -> failwith (sprintf \"Environment variable '%s' not found\" name)\n",
    "    | _ -> value\n",
    "\n",
    "let client =\n",
    "    Config(\n",
    "        { Endpoint = \"https://api.openai.com/v1\"\n",
    "          ApiKey = getEnvVar \"OPENAI_API_KEY\"},\n",
    "        HttpRequester()\n",
    "    )\n"
   ]
  },
  {
   "cell_type": "markdown",
   "id": "3c306c1e-2f75-4428-ac7e-95707e956691",
   "metadata": {},
   "source": [
    "#### Define a record type that will hold model parameters\n",
    "\n",
    "This can be easily extended to other models, including locally hosted models"
   ]
  },
  {
   "cell_type": "code",
   "execution_count": 10,
   "id": "65c8ed51-bdc5-4d43-9d18-a26b0293a303",
   "metadata": {
    "tags": []
   },
   "outputs": [],
   "source": [
    "type ModelSettings = {\n",
    "    TruncateLength : int\n",
    "    ModelName : string\n",
    "}"
   ]
  },
  {
   "cell_type": "markdown",
   "id": "6eba2041-a292-4a63-a2a6-ba66a6b47ea2",
   "metadata": {},
   "source": [
    "#### Now, let's instantiate that record with GPT 3.5 Turbo"
   ]
  },
  {
   "cell_type": "code",
   "execution_count": 11,
   "id": "4b0b0982-b316-40c3-847a-a830981591be",
   "metadata": {
    "tags": []
   },
   "outputs": [],
   "source": [
    "let settingsGPT3 = { TruncateLength = 3000; ModelName = \"gpt-3.5-turbo\" }\n"
   ]
  },
  {
   "cell_type": "markdown",
   "id": "b7740f67-33ad-4f63-8821-7ea95b47fd2c",
   "metadata": {},
   "source": [
    "#### Build the GPT client: more details https://github.com/yazeedobaid/openai-fsharp"
   ]
  },
  {
   "cell_type": "code",
   "execution_count": 12,
   "id": "3c98008f-b03b-4c79-a963-dc973afabed6",
   "metadata": {
    "tags": []
   },
   "outputs": [],
   "source": [
    "let callGPT settings prompt =\n",
    "    client\n",
    "    |> chat\n",
    "    |> create\n",
    "      { Model = settings.ModelName\n",
    "        Messages = [| {Role = \"user\"; Content = prompt} |] }"
   ]
  },
  {
   "cell_type": "markdown",
   "id": "d304831a-94c2-426f-9650-8aa78ff2ea0f",
   "metadata": {},
   "source": [
    "### String sanitization\n",
    "\n",
    "In our hypothetical use case, we are concerned that job details might contain URLs which, combined with prompt injection, would provide a data exfiltration point. We can\n",
    "ensure that `SanitizedString`s are always validated before construction so we can safely pass them to the LLM.\n",
    "\n",
    "This is a simple example. Using more advanced grammar parsing could be a good choice to filter out more sophisticated attacks."
   ]
  },
  {
   "cell_type": "code",
   "execution_count": 13,
   "id": "a1fb19f1-9bad-413f-9701-97554fe42a3c",
   "metadata": {
    "tags": []
   },
   "outputs": [],
   "source": [
    "type SanitizedString = \n",
    "    private\n",
    "    | SanitizedString of string\n",
    "\n",
    "module SanitizedString =\n",
    "\n",
    "    let urlRegex = System.Text.RegularExpressions.Regex(@\"http[s]?://[\\w.-]+(?:\\.[\\w\\.-]+)+[\\w\\-\\._~:/?#[\\]@!\\$&'\\(\\)\\*\\+,;=.]+\")\n",
    "\n",
    "    let tryCreate (input: string) : SanitizedString option =\n",
    "        if urlRegex.IsMatch(input) then\n",
    "            printfn \"Warning: Input string contains a URL!\"\n",
    "            printfn \"URL: %s\" (urlRegex.Match(input).Value)\n",
    "            None\n",
    "        else\n",
    "            Some (SanitizedString input)\n",
    "\n",
    "    let value (SanitizedString s) = s\n"
   ]
  },
  {
   "cell_type": "markdown",
   "id": "2f28dabc-24d6-41cd-b7e0-59da71eb52dd",
   "metadata": {
    "tags": []
   },
   "source": [
    "#### Invoke\n",
    "\n",
    "This function is what calls the LLM. In our use case, it accepts a `ModelSettings` record and a `SanitizedString`. In this specific case we truncate the input prompt to 3000 characters to fit within context length for GPT 3.5. This can be tweaked by updating the record."
   ]
  },
  {
   "cell_type": "code",
   "execution_count": 14,
   "id": "737513b4-2adb-4737-ab58-0c12fd8f7cf9",
   "metadata": {
    "tags": []
   },
   "outputs": [],
   "source": [
    "let invoke (modelSettings: ModelSettings) (sanitizedString: SanitizedString) : string =\n",
    "    let prompt = (SanitizedString.value sanitizedString |> String.truncate modelSettings.TruncateLength)\n",
    "    let choices = (callGPT modelSettings prompt)\n",
    "    choices.Choices[0].Message.Content\n"
   ]
  },
  {
   "cell_type": "markdown",
   "id": "7f7b7c87-f3e3-4727-bcfc-c15cc2ca0486",
   "metadata": {
    "tags": []
   },
   "source": [
    "#### Partial application\n",
    "\n",
    "`invokeGPT3` is now a function with `settingsGPT3` already applied. We can work with this function just like any other, but don't need to worry about remembering which \n",
    "`ModelSettings` we need to use"
   ]
  },
  {
   "cell_type": "code",
   "execution_count": 15,
   "id": "1e1af5f8-5294-491c-84d0-5f54832e280a",
   "metadata": {
    "tags": []
   },
   "outputs": [],
   "source": [
    "let invokeGPT3 = invoke settingsGPT3 "
   ]
  },
  {
   "cell_type": "markdown",
   "id": "94adecfb-21cf-40ed-b192-9bf40d83dbb5",
   "metadata": {
    "tags": []
   },
   "source": [
    "#### RetryBuilder Computation Expression\n",
    "\n",
    "This is the most advanced topic in this notebook. A Computation Expression, similar to a Monad in Haskell, handles high-level control flow. In our case we can\n",
    "wrap calls to the LLM in this RetryBuilder which will automatically retry for us."
   ]
  },
  {
   "cell_type": "code",
   "execution_count": 16,
   "id": "e522e5d9-1c4d-4fa8-bb11-3c3f0774dd76",
   "metadata": {
    "tags": []
   },
   "outputs": [],
   "source": [
    "type RetryBuilder(maxRetries : int) =\n",
    "    member this.Bind(x, f) =\n",
    "        let rec loop retries =\n",
    "            match x with\n",
    "            | Ok x -> \n",
    "                try\n",
    "                    f x\n",
    "                with\n",
    "                | ex when retries > 0 ->\n",
    "                    printfn \"Exception occurred, retrying. %d retries left\" retries\n",
    "                    loop (retries - 1)\n",
    "                | ex ->\n",
    "                    printfn \"Exception occurred, no retries left. Rethrowing...\"\n",
    "                    reraise()\n",
    "            | Error _ as err -> err\n",
    "        loop maxRetries\n",
    "    member this.Return(x) = Ok x\n",
    "    member __.ReturnFrom(x) = x\n",
    "\n",
    "    member this.Zero() = failwith \"Unexpected condition in RetryBuilder\"\n"
   ]
  },
  {
   "cell_type": "markdown",
   "id": "72cd1a78-52d2-444e-a20e-2855f75dcf15",
   "metadata": {},
   "source": [
    "Create an instance of the RetryBuilder, in this case with 5 retries"
   ]
  },
  {
   "cell_type": "code",
   "execution_count": 17,
   "id": "f322cda5-171e-439e-a71f-fdccd7fb868c",
   "metadata": {
    "tags": []
   },
   "outputs": [],
   "source": [
    "let retry = RetryBuilder(5)"
   ]
  },
  {
   "cell_type": "markdown",
   "id": "e84afdc6-c1f2-4807-af85-5fc873a3037a",
   "metadata": {},
   "source": [
    "#### Extract themes\n",
    "\n",
    "Here we take in the "
   ]
  },
  {
   "cell_type": "code",
   "execution_count": 18,
   "id": "b27fb119-bf0c-4829-b881-e17b30489b7a",
   "metadata": {
    "tags": []
   },
   "outputs": [],
   "source": [
    "type SpaceSeparatedFile = CsvProvider<\"./job_cleanData.csv\">\n",
    "\n",
    "let loadAndGroupData () : string * list<string> =\n",
    "    // Load space-separated data\n",
    "    let data = SpaceSeparatedFile.Load(\"./job_cleanData.csv\")\n",
    "    \n",
    "    // Group by unique \"Designation\" values\n",
    "    let groupedData = \n",
    "        data.Rows\n",
    "        |> Seq.groupBy (fun row -> row.Designation)\n",
    "        |> Seq.map (fun (name, rows) -> name, Seq.toList rows) // This produces a sequence of tuples (designation, rows)\n",
    "        |> Seq.map (fun (name, rows) -> name, rows |> List.map (fun row -> row.Job_details)) // For each group, transform the list of rows into a list of job details\n",
    "    \n",
    "    // Return the first group's designation and job details\n",
    "    let firstGroup = Seq.head groupedData\n",
    "    firstGroup"
   ]
  },
  {
   "cell_type": "code",
   "execution_count": 19,
   "id": "d8f9fb0f-78cc-48bd-ae9b-1a50d1d45f83",
   "metadata": {
    "tags": []
   },
   "outputs": [],
   "source": [
    "let (designation, descriptions) = loadAndGroupData()\n"
   ]
  },
  {
   "cell_type": "markdown",
   "id": "2b453865-d311-4831-97b2-5bf1ecc0cc78",
   "metadata": {
    "tags": []
   },
   "source": [
    "#### Convert job descriptions to `SanitizedString`s"
   ]
  },
  {
   "cell_type": "code",
   "execution_count": 20,
   "id": "3630ba74-0925-4dcf-835e-65864ad5cfb6",
   "metadata": {
    "tags": []
   },
   "outputs": [
    {
     "name": "stdout",
     "output_type": "stream",
     "text": [
      "Warning: Input string contains a URL!\n",
      "URL: https://www.crossover.com/auth/password-recovery\n",
      "Warning: Input string contains a URL!\n",
      "URL: https://www.crossover.com/auth/password-recovery\n",
      "Warning: Input string contains a URL!\n",
      "URL: https://www.crossover.com/auth/password-recovery\n",
      "Warning: Input string contains a URL!\n",
      "URL: http://www.verisk.com/careers.html\n",
      "Warning: Input string contains a URL!\n",
      "URL: http://www.launchcg.com;\n",
      "Warning: Input string contains a URL!\n",
      "URL: https://talent.uplers.com/\n",
      "Warning: Input string contains a URL!\n",
      "URL: https://talent.uplers.com/\n",
      "Warning: Input string contains a URL!\n",
      "URL: https://kpipartners.openings.co/#!/\n",
      "Warning: Input string contains a URL!\n",
      "URL: https://www.northerntrust.com/content/dam/northerntrust/pws/nt/images/careers/taleo-india.png\n",
      "Warning: Input string contains a URL!\n",
      "URL: https://www.hyqoo.com\n",
      "Warning: Input string contains a URL!\n",
      "URL: https://kpipartners.openings.co/#!/\n",
      "Warning: Input string contains a URL!\n",
      "URL: http://www.verisk.com/careers.html\n",
      "Warning: Input string contains a URL!\n",
      "URL: https://www.ibm.com/in-enJob\n",
      "Warning: Input string contains a URL!\n",
      "URL: https://docs.google.com/document/d/1ifTRyXCsoNaRWF3_w4prCLz0todRcL3q9JCPM53RtvY(copy\n",
      "Warning: Input string contains a URL!\n",
      "URL: https://www.flexmoney.inJob\n",
      "Warning: Input string contains a URL!\n",
      "URL: https://www.zineone.com/)\n",
      "Warning: Input string contains a URL!\n",
      "URL: https://hillpineconsulting.in\n",
      "Warning: Input string contains a URL!\n",
      "URL: https://www.axismyindia.org/\n",
      "Warning: Input string contains a URL!\n",
      "URL: https://www.sutherlandglobal.com/Lead\n",
      "Warning: Input string contains a URL!\n",
      "URL: https://www.doxel.ai/)\n",
      "Warning: Input string contains a URL!\n",
      "URL: https://www.micro1.ai/developer\n",
      "Warning: Input string contains a URL!\n",
      "URL: https://www.doxel.ai/)\n",
      "Warning: Input string contains a URL!\n",
      "URL: https://www.luxoft.com/)\n",
      "Warning: Input string contains a URL!\n",
      "URL: https://devon.global\n",
      "Warning: Input string contains a URL!\n",
      "URL: https://www.micro1.ai/developer\n",
      "Warning: Input string contains a URL!\n",
      "URL: https://escalent.co/careers-and-culture/\n",
      "Warning: Input string contains a URL!\n",
      "URL: https://nielseniq.com/global/en/news-center/diversity-inclusion/\n",
      "Warning: Input string contains a URL!\n",
      "URL: http://corizo.in\n",
      "Warning: Input string contains a URL!\n",
      "URL: https://nielseniq.com/global/en/news-center/diversity-inclusion/\n",
      "Warning: Input string contains a URL!\n",
      "URL: http://www.tcs.com\n",
      "Warning: Input string contains a URL!\n",
      "URL: http://www.tcs.com\n",
      "Warning: Input string contains a URL!\n",
      "URL: https://games2winmedia.com/company-profile/\n",
      "Warning: Input string contains a URL!\n",
      "URL: https://www.prismhr.com/about/privacy-policy.\n",
      "Warning: Input string contains a URL!\n",
      "URL: https://mma.com/\n",
      "Warning: Input string contains a URL!\n",
      "URL: https://clear.ml.\n",
      "Warning: Input string contains a URL!\n",
      "URL: https://www.prismhr.com/about/privacy-policy.\n",
      "Warning: Input string contains a URL!\n",
      "URL: https://clear.ml.\n",
      "Warning: Input string contains a URL!\n",
      "URL: https://cipio.ai/\n",
      "Warning: Input string contains a URL!\n",
      "URL: https://www.collegeranker.in/internships\n",
      "Warning: Input string contains a URL!\n",
      "URL: https://merilytics.com.We\n",
      "Warning: Input string contains a URL!\n",
      "URL: https://www.northerntrust.com/content/dam/northerntrust/pws/nt/images/careers/taleo-india.png\n",
      "Warning: Input string contains a URL!\n",
      "URL: https://www.quantzig.com/\n",
      "Warning: Input string contains a URL!\n",
      "URL: https://merilytics.com\n",
      "Warning: Input string contains a URL!\n",
      "URL: https://nielseniq.com/global/en/news-center/diversity-inclusion/\n",
      "Warning: Input string contains a URL!\n",
      "URL: https://forms.gle/xha6DBygFAkR66rx5\n",
      "Warning: Input string contains a URL!\n",
      "URL: https://talent.uplers.com/\n",
      "Warning: Input string contains a URL!\n",
      "URL: https://vimeo.com/729865941\n",
      "Warning: Input string contains a URL!\n",
      "URL: https://twitter.com/SyngentaAPAC\n",
      "Warning: Input string contains a URL!\n",
      "URL: https://merilytics.com\n",
      "Warning: Input string contains a URL!\n",
      "URL: https://twitter.com/SyngentaAPAC\n"
     ]
    }
   ],
   "source": [
    "let merged = \n",
    "    descriptions\n",
    "    |> Seq.map SanitizedString.tryCreate\n",
    "    |> Seq.choose id\n",
    "    |> Seq.map SanitizedString.value\n",
    "    |> String.concat \" \"\n"
   ]
  },
  {
   "cell_type": "markdown",
   "id": "ad3b458a-88a0-4b5a-b0c3-a4ea9052c82d",
   "metadata": {},
   "source": [
    "#### JSON Deserialization\n",
    "\n",
    "Here we handle deserialization the OpenAI API call JSON response. This could be improved with retry, additional error handling, and reflection to automatically provide the\n",
    "desired schema to the LLM."
   ]
  },
  {
   "cell_type": "code",
   "execution_count": 25,
   "id": "f7309780-ec3d-4c9b-9e8c-84194bb87ed2",
   "metadata": {
    "tags": []
   },
   "outputs": [],
   "source": [
    "\n",
    "type Category = {\n",
    "    subcategories: List<string>\n",
    "}\n",
    "\n",
    "// Convert a JSON string to a F# map\n",
    "let jsonToMap (json: string) : Map<string, string> =\n",
    "    // Deserialize JSON string to Category type\n",
    "    let category = JsonConvert.DeserializeObject<Category>(json)\n",
    "\n",
    "    // Create a sequence of tuples, each with an index and a corresponding subcategory\n",
    "    let tuples = category.subcategories |> Seq.mapi (fun i subcategory -> (string i, subcategory))\n",
    "\n",
    "    // Create a map from the sequence of tuples\n",
    "    let map = Map.ofSeq tuples\n",
    "\n",
    "    map\n"
   ]
  },
  {
   "cell_type": "markdown",
   "id": "23ec19b4-7e62-4629-b502-cd8293c0d0ea",
   "metadata": {
    "tags": []
   },
   "source": [
    "#### Putting it all together\n",
    "\n",
    "Attempt to construct a `SanitizedString`, and then use it to identify subcategories via a call to OpenAI"
   ]
  },
  {
   "cell_type": "code",
   "execution_count": 35,
   "id": "9a90ede2-07eb-44dc-a98f-9e123960a6a4",
   "metadata": {
    "tags": []
   },
   "outputs": [
    {
     "name": "stdout",
     "output_type": "stream",
     "text": [
      "map\n",
      "  [(\"0\", \"Machine Learning Engineer\"); (\"1\", \"Data Scientist\");\n",
      "   (\"2\", \"Data Engineer\")]\n"
     ]
    }
   ],
   "source": [
    "let maybePrompt = SanitizedString.tryCreate $\"\"\"you are a helpful job classification system. Given this job designation '{designation}', and the following job details, please provide a sub-categories of this job. Please return a JSON list in the form of \"subcategories\": [(list values)]. Details: {merged}\"\"\"\n",
    "\n",
    "match maybePrompt with\n",
    "    | Some sanitizedPrompt -> \n",
    "        let subcategories = invokeGPT3 sanitizedPrompt\n",
    "        let map: Map<string,string> = jsonToMap subcategories\n",
    "        printfn \"%A\" map\n",
    "        \n",
    "    | None -> printfn \"%s\" \"The prompt is empty since it could not be validated\"\n",
    "\n"
   ]
  }
 ],
 "metadata": {
  "kernelspec": {
   "display_name": ".NET (F#)",
   "language": "F#",
   "name": ".net-fsharp"
  },
  "language_info": {
   "file_extension": ".fs",
   "mimetype": "text/x-fsharp",
   "name": "F#",
   "pygments_lexer": "fsharp",
   "version": "7.0"
  }
 },
 "nbformat": 4,
 "nbformat_minor": 5
}
